{
 "cells": [
  {
   "cell_type": "markdown",
   "metadata": {},
   "source": [
    "# Diabities Dataset B"
   ]
  },
  {
   "cell_type": "code",
   "execution_count": 3,
   "metadata": {},
   "outputs": [
    {
     "name": "stderr",
     "output_type": "stream",
     "text": [
      "Using TensorFlow backend.\n"
     ]
    }
   ],
   "source": [
    "import numpy as np\n",
    "from keras.models import Sequential\n",
    "from keras.layers import Dense,Activation,Dropout,BatchNormalization,Flatten\n",
    "from keras.layers.convolutional import Conv2D,MaxPooling2D\n",
    "from keras.utils import np_utils\n",
    "import pandas as pd"
   ]
  },
  {
   "cell_type": "code",
   "execution_count": 5,
   "metadata": {},
   "outputs": [
    {
     "data": {
      "text/html": [
       "<div>\n",
       "<style scoped>\n",
       "    .dataframe tbody tr th:only-of-type {\n",
       "        vertical-align: middle;\n",
       "    }\n",
       "\n",
       "    .dataframe tbody tr th {\n",
       "        vertical-align: top;\n",
       "    }\n",
       "\n",
       "    .dataframe thead th {\n",
       "        text-align: right;\n",
       "    }\n",
       "</style>\n",
       "<table border=\"1\" class=\"dataframe\">\n",
       "  <thead>\n",
       "    <tr style=\"text-align: right;\">\n",
       "      <th></th>\n",
       "      <th>age</th>\n",
       "      <th>daistolic</th>\n",
       "      <th>oldpeak</th>\n",
       "      <th>glucose_con</th>\n",
       "      <th>Diab_pred</th>\n",
       "      <th>thickness</th>\n",
       "      <th>pregnan</th>\n",
       "      <th>label</th>\n",
       "    </tr>\n",
       "  </thead>\n",
       "  <tbody>\n",
       "    <tr>\n",
       "      <td>0</td>\n",
       "      <td>63</td>\n",
       "      <td>145</td>\n",
       "      <td>2.3</td>\n",
       "      <td>148</td>\n",
       "      <td>0.627</td>\n",
       "      <td>233</td>\n",
       "      <td>6</td>\n",
       "      <td>1</td>\n",
       "    </tr>\n",
       "    <tr>\n",
       "      <td>1</td>\n",
       "      <td>37</td>\n",
       "      <td>130</td>\n",
       "      <td>3.5</td>\n",
       "      <td>85</td>\n",
       "      <td>0.351</td>\n",
       "      <td>250</td>\n",
       "      <td>1</td>\n",
       "      <td>0</td>\n",
       "    </tr>\n",
       "    <tr>\n",
       "      <td>2</td>\n",
       "      <td>41</td>\n",
       "      <td>130</td>\n",
       "      <td>1.4</td>\n",
       "      <td>183</td>\n",
       "      <td>0.672</td>\n",
       "      <td>204</td>\n",
       "      <td>8</td>\n",
       "      <td>1</td>\n",
       "    </tr>\n",
       "    <tr>\n",
       "      <td>3</td>\n",
       "      <td>56</td>\n",
       "      <td>120</td>\n",
       "      <td>0.8</td>\n",
       "      <td>89</td>\n",
       "      <td>0.167</td>\n",
       "      <td>236</td>\n",
       "      <td>1</td>\n",
       "      <td>0</td>\n",
       "    </tr>\n",
       "    <tr>\n",
       "      <td>4</td>\n",
       "      <td>57</td>\n",
       "      <td>120</td>\n",
       "      <td>0.6</td>\n",
       "      <td>137</td>\n",
       "      <td>2.288</td>\n",
       "      <td>354</td>\n",
       "      <td>0</td>\n",
       "      <td>1</td>\n",
       "    </tr>\n",
       "  </tbody>\n",
       "</table>\n",
       "</div>"
      ],
      "text/plain": [
       "   age  daistolic  oldpeak  glucose_con  Diab_pred  thickness  pregnan  label\n",
       "0   63        145      2.3          148      0.627        233        6      1\n",
       "1   37        130      3.5           85      0.351        250        1      0\n",
       "2   41        130      1.4          183      0.672        204        8      1\n",
       "3   56        120      0.8           89      0.167        236        1      0\n",
       "4   57        120      0.6          137      2.288        354        0      1"
      ]
     },
     "execution_count": 5,
     "metadata": {},
     "output_type": "execute_result"
    }
   ],
   "source": [
    "d=pd.read_excel(r\"C:\\Users\\hamza jamil\\Desktop\\Diabites Model\\Diabites B.xlsx\")\n",
    "d.head()"
   ]
  },
  {
   "cell_type": "code",
   "execution_count": 6,
   "metadata": {},
   "outputs": [
    {
     "name": "stdout",
     "output_type": "stream",
     "text": [
      "<class 'pandas.core.frame.DataFrame'>\n",
      "RangeIndex: 303 entries, 0 to 302\n",
      "Data columns (total 8 columns):\n",
      "age            303 non-null int64\n",
      "daistolic      303 non-null int64\n",
      "oldpeak        303 non-null float64\n",
      "glucose_con    303 non-null int64\n",
      "Diab_pred      303 non-null float64\n",
      "thickness      303 non-null int64\n",
      "pregnan        303 non-null int64\n",
      "label          303 non-null int64\n",
      "dtypes: float64(2), int64(6)\n",
      "memory usage: 19.1 KB\n"
     ]
    }
   ],
   "source": [
    "d.info()"
   ]
  },
  {
   "cell_type": "markdown",
   "metadata": {},
   "source": [
    "#  correlation matrix"
   ]
  },
  {
   "cell_type": "code",
   "execution_count": 7,
   "metadata": {},
   "outputs": [
    {
     "data": {
      "text/plain": [
       "<matplotlib.colorbar.Colorbar at 0x18769968a20>"
      ]
     },
     "execution_count": 7,
     "metadata": {},
     "output_type": "execute_result"
    },
    {
     "data": {
      "image/png": "[encoded data removed]",
      "text/plain": [
       "<Figure size 1008x1008 with 2 Axes>"
      ]
     },
     "metadata": {
      "needs_background": "light"
     },
     "output_type": "display_data"
    }
   ],
   "source": [
    "from matplotlib import rcParams\n",
    "import matplotlib.pyplot as plt\n",
    "from sklearn.ensemble import RandomForestClassifier as Featuree\n",
    "from matplotlib.cm import rainbow\n",
    "%matplotlib inline\n",
    "rcParams['figure.figsize'] = 20, 14\n",
    "plt.matshow(d.corr())\n",
    "plt.yticks(np.arange(d.shape[1]), d.columns)\n",
    "plt.xticks(np.arange(d.shape[1]), d.columns)\n",
    "plt.colorbar()"
   ]
  },
  {
   "cell_type": "markdown",
   "metadata": {},
   "source": [
    "#  First we sort instance by age"
   ]
  },
  {
   "cell_type": "code",
   "execution_count": 8,
   "metadata": {},
   "outputs": [
    {
     "data": {
      "text/html": [
       "<div>\n",
       "<style scoped>\n",
       "    .dataframe tbody tr th:only-of-type {\n",
       "        vertical-align: middle;\n",
       "    }\n",
       "\n",
       "    .dataframe tbody tr th {\n",
       "        vertical-align: top;\n",
       "    }\n",
       "\n",
       "    .dataframe thead th {\n",
       "        text-align: right;\n",
       "    }\n",
       "</style>\n",
       "<table border=\"1\" class=\"dataframe\">\n",
       "  <thead>\n",
       "    <tr style=\"text-align: right;\">\n",
       "      <th></th>\n",
       "      <th>age</th>\n",
       "      <th>daistolic</th>\n",
       "      <th>oldpeak</th>\n",
       "      <th>glucose_con</th>\n",
       "      <th>Diab_pred</th>\n",
       "      <th>thickness</th>\n",
       "      <th>pregnan</th>\n",
       "      <th>label</th>\n",
       "    </tr>\n",
       "  </thead>\n",
       "  <tbody>\n",
       "    <tr>\n",
       "      <td>72</td>\n",
       "      <td>29</td>\n",
       "      <td>130</td>\n",
       "      <td>0.0</td>\n",
       "      <td>126</td>\n",
       "      <td>0.583</td>\n",
       "      <td>204</td>\n",
       "      <td>13</td>\n",
       "      <td>1</td>\n",
       "    </tr>\n",
       "    <tr>\n",
       "      <td>58</td>\n",
       "      <td>34</td>\n",
       "      <td>118</td>\n",
       "      <td>0.0</td>\n",
       "      <td>146</td>\n",
       "      <td>1.781</td>\n",
       "      <td>182</td>\n",
       "      <td>0</td>\n",
       "      <td>0</td>\n",
       "    </tr>\n",
       "    <tr>\n",
       "      <td>125</td>\n",
       "      <td>34</td>\n",
       "      <td>118</td>\n",
       "      <td>0.7</td>\n",
       "      <td>88</td>\n",
       "      <td>0.496</td>\n",
       "      <td>210</td>\n",
       "      <td>1</td>\n",
       "      <td>1</td>\n",
       "    </tr>\n",
       "    <tr>\n",
       "      <td>239</td>\n",
       "      <td>35</td>\n",
       "      <td>126</td>\n",
       "      <td>0.0</td>\n",
       "      <td>104</td>\n",
       "      <td>0.582</td>\n",
       "      <td>282</td>\n",
       "      <td>0</td>\n",
       "      <td>0</td>\n",
       "    </tr>\n",
       "    <tr>\n",
       "      <td>65</td>\n",
       "      <td>35</td>\n",
       "      <td>138</td>\n",
       "      <td>1.4</td>\n",
       "      <td>99</td>\n",
       "      <td>0.203</td>\n",
       "      <td>183</td>\n",
       "      <td>5</td>\n",
       "      <td>0</td>\n",
       "    </tr>\n",
       "  </tbody>\n",
       "</table>\n",
       "</div>"
      ],
      "text/plain": [
       "     age  daistolic  oldpeak  glucose_con  Diab_pred  thickness  pregnan  \\\n",
       "72    29        130      0.0          126      0.583        204       13   \n",
       "58    34        118      0.0          146      1.781        182        0   \n",
       "125   34        118      0.7           88      0.496        210        1   \n",
       "239   35        126      0.0          104      0.582        282        0   \n",
       "65    35        138      1.4           99      0.203        183        5   \n",
       "\n",
       "     label  \n",
       "72       1  \n",
       "58       0  \n",
       "125      1  \n",
       "239      0  \n",
       "65       0  "
      ]
     },
     "execution_count": 8,
     "metadata": {},
     "output_type": "execute_result"
    }
   ],
   "source": [
    "data=d.sort_values(by=['age'])\n",
    "data.head()               #here we sort data by Age"
   ]
  },
  {
   "cell_type": "markdown",
   "metadata": {},
   "source": [
    "#  Now here we drop duplicate value in our data"
   ]
  },
  {
   "cell_type": "code",
   "execution_count": 9,
   "metadata": {},
   "outputs": [],
   "source": [
    "dup=data.drop_duplicates(keep=False,inplace=True)\n",
    "dup                   #here we use drop_duplicate method to drop duplcate value but here we have not duplicate value"
   ]
  },
  {
   "cell_type": "code",
   "execution_count": 10,
   "metadata": {},
   "outputs": [
    {
     "data": {
      "text/plain": [
       "303"
      ]
     },
     "execution_count": 10,
     "metadata": {},
     "output_type": "execute_result"
    }
   ],
   "source": [
    "len(data)"
   ]
  },
  {
   "cell_type": "markdown",
   "metadata": {},
   "source": [
    "#  here we check missing value in our data"
   ]
  },
  {
   "cell_type": "code",
   "execution_count": 11,
   "metadata": {},
   "outputs": [
    {
     "data": {
      "text/plain": [
       "False"
      ]
     },
     "execution_count": 11,
     "metadata": {},
     "output_type": "execute_result"
    }
   ],
   "source": [
    "data.isnull().values.any() #here we see we have no any null value"
   ]
  },
  {
   "cell_type": "markdown",
   "metadata": {},
   "source": [
    "# here we checking NAN N/A value in our data "
   ]
  },
  {
   "cell_type": "code",
   "execution_count": 12,
   "metadata": {},
   "outputs": [
    {
     "data": {
      "text/html": [
       "<div>\n",
       "<style scoped>\n",
       "    .dataframe tbody tr th:only-of-type {\n",
       "        vertical-align: middle;\n",
       "    }\n",
       "\n",
       "    .dataframe tbody tr th {\n",
       "        vertical-align: top;\n",
       "    }\n",
       "\n",
       "    .dataframe thead th {\n",
       "        text-align: right;\n",
       "    }\n",
       "</style>\n",
       "<table border=\"1\" class=\"dataframe\">\n",
       "  <thead>\n",
       "    <tr style=\"text-align: right;\">\n",
       "      <th></th>\n",
       "      <th>age</th>\n",
       "      <th>daistolic</th>\n",
       "      <th>oldpeak</th>\n",
       "      <th>glucose_con</th>\n",
       "      <th>Diab_pred</th>\n",
       "      <th>thickness</th>\n",
       "      <th>pregnan</th>\n",
       "      <th>label</th>\n",
       "    </tr>\n",
       "  </thead>\n",
       "  <tbody>\n",
       "    <tr>\n",
       "      <td>72</td>\n",
       "      <td>29</td>\n",
       "      <td>130</td>\n",
       "      <td>0.0</td>\n",
       "      <td>126</td>\n",
       "      <td>0.583</td>\n",
       "      <td>204</td>\n",
       "      <td>13</td>\n",
       "      <td>1</td>\n",
       "    </tr>\n",
       "    <tr>\n",
       "      <td>58</td>\n",
       "      <td>34</td>\n",
       "      <td>118</td>\n",
       "      <td>0.0</td>\n",
       "      <td>146</td>\n",
       "      <td>1.781</td>\n",
       "      <td>182</td>\n",
       "      <td>0</td>\n",
       "      <td>0</td>\n",
       "    </tr>\n",
       "    <tr>\n",
       "      <td>125</td>\n",
       "      <td>34</td>\n",
       "      <td>118</td>\n",
       "      <td>0.7</td>\n",
       "      <td>88</td>\n",
       "      <td>0.496</td>\n",
       "      <td>210</td>\n",
       "      <td>1</td>\n",
       "      <td>1</td>\n",
       "    </tr>\n",
       "    <tr>\n",
       "      <td>239</td>\n",
       "      <td>35</td>\n",
       "      <td>126</td>\n",
       "      <td>0.0</td>\n",
       "      <td>104</td>\n",
       "      <td>0.582</td>\n",
       "      <td>282</td>\n",
       "      <td>0</td>\n",
       "      <td>0</td>\n",
       "    </tr>\n",
       "    <tr>\n",
       "      <td>65</td>\n",
       "      <td>35</td>\n",
       "      <td>138</td>\n",
       "      <td>1.4</td>\n",
       "      <td>99</td>\n",
       "      <td>0.203</td>\n",
       "      <td>183</td>\n",
       "      <td>5</td>\n",
       "      <td>0</td>\n",
       "    </tr>\n",
       "  </tbody>\n",
       "</table>\n",
       "</div>"
      ],
      "text/plain": [
       "     age  daistolic  oldpeak  glucose_con  Diab_pred  thickness  pregnan  \\\n",
       "72    29        130      0.0          126      0.583        204       13   \n",
       "58    34        118      0.0          146      1.781        182        0   \n",
       "125   34        118      0.7           88      0.496        210        1   \n",
       "239   35        126      0.0          104      0.582        282        0   \n",
       "65    35        138      1.4           99      0.203        183        5   \n",
       "\n",
       "     label  \n",
       "72       1  \n",
       "58       0  \n",
       "125      1  \n",
       "239      0  \n",
       "65       0  "
      ]
     },
     "execution_count": 12,
     "metadata": {},
     "output_type": "execute_result"
    }
   ],
   "source": [
    "dro=data.dropna()\n",
    "dro.head()    "
   ]
  },
  {
   "cell_type": "markdown",
   "metadata": {},
   "source": [
    "#  Here we Distribute our dataset in two group"
   ]
  },
  {
   "cell_type": "code",
   "execution_count": 13,
   "metadata": {},
   "outputs": [],
   "source": [
    "#first we distribute our dataset into two variable \n",
    "x=dro.drop(['label','age'],axis='columns').values \n",
    "                                 \n",
    "y=dro.label.values\n"
   ]
  },
  {
   "cell_type": "markdown",
   "metadata": {},
   "source": [
    "#  Here we Normalized our Datasets\n"
   ]
  },
  {
   "cell_type": "code",
   "execution_count": 14,
   "metadata": {},
   "outputs": [
    {
     "data": {
      "text/html": [
       "<div>\n",
       "<style scoped>\n",
       "    .dataframe tbody tr th:only-of-type {\n",
       "        vertical-align: middle;\n",
       "    }\n",
       "\n",
       "    .dataframe tbody tr th {\n",
       "        vertical-align: top;\n",
       "    }\n",
       "\n",
       "    .dataframe thead th {\n",
       "        text-align: right;\n",
       "    }\n",
       "</style>\n",
       "<table border=\"1\" class=\"dataframe\">\n",
       "  <thead>\n",
       "    <tr style=\"text-align: right;\">\n",
       "      <th></th>\n",
       "      <th>age</th>\n",
       "      <th>daistolic</th>\n",
       "      <th>oldpeak</th>\n",
       "      <th>glucose_con</th>\n",
       "      <th>Diab_pred</th>\n",
       "      <th>thickness</th>\n",
       "      <th>label</th>\n",
       "    </tr>\n",
       "  </thead>\n",
       "  <tbody>\n",
       "    <tr>\n",
       "      <td>72</td>\n",
       "      <td>29</td>\n",
       "      <td>0.000000</td>\n",
       "      <td>0.639594</td>\n",
       "      <td>0.224345</td>\n",
       "      <td>0.178082</td>\n",
       "      <td>0.764706</td>\n",
       "      <td>1</td>\n",
       "    </tr>\n",
       "    <tr>\n",
       "      <td>58</td>\n",
       "      <td>34</td>\n",
       "      <td>0.000000</td>\n",
       "      <td>0.741117</td>\n",
       "      <td>0.756553</td>\n",
       "      <td>0.127854</td>\n",
       "      <td>0.000000</td>\n",
       "      <td>0</td>\n",
       "    </tr>\n",
       "    <tr>\n",
       "      <td>125</td>\n",
       "      <td>34</td>\n",
       "      <td>0.112903</td>\n",
       "      <td>0.446701</td>\n",
       "      <td>0.185695</td>\n",
       "      <td>0.191781</td>\n",
       "      <td>0.058824</td>\n",
       "      <td>1</td>\n",
       "    </tr>\n",
       "    <tr>\n",
       "      <td>239</td>\n",
       "      <td>35</td>\n",
       "      <td>0.000000</td>\n",
       "      <td>0.527919</td>\n",
       "      <td>0.223900</td>\n",
       "      <td>0.356164</td>\n",
       "      <td>0.000000</td>\n",
       "      <td>0</td>\n",
       "    </tr>\n",
       "    <tr>\n",
       "      <td>65</td>\n",
       "      <td>35</td>\n",
       "      <td>0.225806</td>\n",
       "      <td>0.502538</td>\n",
       "      <td>0.055531</td>\n",
       "      <td>0.130137</td>\n",
       "      <td>0.294118</td>\n",
       "      <td>0</td>\n",
       "    </tr>\n",
       "  </tbody>\n",
       "</table>\n",
       "</div>"
      ],
      "text/plain": [
       "     age  daistolic   oldpeak  glucose_con  Diab_pred  thickness  label\n",
       "72    29   0.000000  0.639594     0.224345   0.178082   0.764706      1\n",
       "58    34   0.000000  0.741117     0.756553   0.127854   0.000000      0\n",
       "125   34   0.112903  0.446701     0.185695   0.191781   0.058824      1\n",
       "239   35   0.000000  0.527919     0.223900   0.356164   0.000000      0\n",
       "65    35   0.225806  0.502538     0.055531   0.130137   0.294118      0"
      ]
     },
     "execution_count": 14,
     "metadata": {},
     "output_type": "execute_result"
    }
   ],
   "source": [
    "# Now we Normalze our dataset\n",
    "from sklearn import preprocessing\n",
    "min_max_scaler = preprocessing.MinMaxScaler()\n",
    "x_scaled = min_max_scaler.fit_transform(x)\n",
    "Norm=pd.DataFrame(x_scaled,index=dro.index,columns=dro.columns[0:6])\n",
    "Norm['age']=dro[\"age\"]\n",
    "Norm['label']=dro['label']\n",
    "Norm.head()\n",
    "\n",
    "#after the normalization we apply squirel algorithm to find the feature"
   ]
  },
  {
   "cell_type": "markdown",
   "metadata": {},
   "source": [
    "#  Here we identify our important features to the help of Algorithm"
   ]
  },
  {
   "cell_type": "code",
   "execution_count": 15,
   "metadata": {},
   "outputs": [
    {
     "name": "stderr",
     "output_type": "stream",
     "text": [
      "C:\\Users\\hamza jamil\\Anaconda3\\lib\\site-packages\\sklearn\\ensemble\\forest.py:245: FutureWarning: The default value of n_estimators will change from 10 in version 0.20 to 100 in 0.22.\n",
      "  \"10 in version 0.20 to 100 in 0.22.\", FutureWarning)\n"
     ]
    },
    {
     "data": {
      "image/png": "[encoded data removed]",
      "text/plain": [
       "<Figure size 432x288 with 1 Axes>"
      ]
     },
     "metadata": {
      "needs_background": "light"
     },
     "output_type": "display_data"
    }
   ],
   "source": [
    "#here we creare functoin for Squireel Search Algorithm\n",
    "from mlxtend.feature_selection import SequentialFeatureSelector as SFS\n",
    "def Squirrel(algo_namem,features_nums):\n",
    "    sfs_name=SFS(algo_namem, \n",
    "                k_features=features_nums, \n",
    "                forward=True, \n",
    "                floating=False,)\n",
    "    return sfs_name\n",
    "Squirrel=Featuree()\n",
    "Squirrel.fit(x,y)\n",
    "feature_importance = Squirrel.feature_importances_\n",
    "feat_importances = pd.Series(Squirrel.feature_importances_, d.columns[0:6])\n",
    "feat_importances = feat_importances.nlargest(13)\n",
    "\n",
    "feature = d.columns.values.tolist()[0:6]\n",
    "importance = sorted(Squirrel.feature_importances_.tolist())\n",
    "\n",
    "\n",
    "x_pos = [i for i, _ in enumerate(feature)]\n",
    "\n",
    "plt.barh(x_pos, importance , color='dodgerblue')\n",
    "plt.ylabel(\"feature\")\n",
    "plt.xlabel(\"importance\")\n",
    "plt.title(\"feature_importances\")\n",
    "\n",
    "plt.yticks(x_pos, feature)\n",
    "\n",
    "plt.show()"
   ]
  },
  {
   "cell_type": "code",
   "execution_count": 16,
   "metadata": {},
   "outputs": [
    {
     "data": {
      "text/html": [
       "<div>\n",
       "<style scoped>\n",
       "    .dataframe tbody tr th:only-of-type {\n",
       "        vertical-align: middle;\n",
       "    }\n",
       "\n",
       "    .dataframe tbody tr th {\n",
       "        vertical-align: top;\n",
       "    }\n",
       "\n",
       "    .dataframe thead th {\n",
       "        text-align: right;\n",
       "    }\n",
       "</style>\n",
       "<table border=\"1\" class=\"dataframe\">\n",
       "  <thead>\n",
       "    <tr style=\"text-align: right;\">\n",
       "      <th></th>\n",
       "      <th>age</th>\n",
       "      <th>daistolic</th>\n",
       "      <th>oldpeak</th>\n",
       "      <th>glucose_con</th>\n",
       "      <th>Diab_pred</th>\n",
       "      <th>thickness</th>\n",
       "    </tr>\n",
       "  </thead>\n",
       "  <tbody>\n",
       "    <tr>\n",
       "      <td>72</td>\n",
       "      <td>29</td>\n",
       "      <td>0.000000</td>\n",
       "      <td>0.639594</td>\n",
       "      <td>0.224345</td>\n",
       "      <td>0.178082</td>\n",
       "      <td>0.764706</td>\n",
       "    </tr>\n",
       "    <tr>\n",
       "      <td>58</td>\n",
       "      <td>34</td>\n",
       "      <td>0.000000</td>\n",
       "      <td>0.741117</td>\n",
       "      <td>0.756553</td>\n",
       "      <td>0.127854</td>\n",
       "      <td>0.000000</td>\n",
       "    </tr>\n",
       "    <tr>\n",
       "      <td>125</td>\n",
       "      <td>34</td>\n",
       "      <td>0.112903</td>\n",
       "      <td>0.446701</td>\n",
       "      <td>0.185695</td>\n",
       "      <td>0.191781</td>\n",
       "      <td>0.058824</td>\n",
       "    </tr>\n",
       "    <tr>\n",
       "      <td>239</td>\n",
       "      <td>35</td>\n",
       "      <td>0.000000</td>\n",
       "      <td>0.527919</td>\n",
       "      <td>0.223900</td>\n",
       "      <td>0.356164</td>\n",
       "      <td>0.000000</td>\n",
       "    </tr>\n",
       "    <tr>\n",
       "      <td>65</td>\n",
       "      <td>35</td>\n",
       "      <td>0.225806</td>\n",
       "      <td>0.502538</td>\n",
       "      <td>0.055531</td>\n",
       "      <td>0.130137</td>\n",
       "      <td>0.294118</td>\n",
       "    </tr>\n",
       "  </tbody>\n",
       "</table>\n",
       "</div>"
      ],
      "text/plain": [
       "     age  daistolic   oldpeak  glucose_con  Diab_pred  thickness\n",
       "72    29   0.000000  0.639594     0.224345   0.178082   0.764706\n",
       "58    34   0.000000  0.741117     0.756553   0.127854   0.000000\n",
       "125   34   0.112903  0.446701     0.185695   0.191781   0.058824\n",
       "239   35   0.000000  0.527919     0.223900   0.356164   0.000000\n",
       "65    35   0.225806  0.502538     0.055531   0.130137   0.294118"
      ]
     },
     "execution_count": 16,
     "metadata": {},
     "output_type": "execute_result"
    }
   ],
   "source": [
    "# now here we pick up the feature with given visualization grap\n",
    "x=Norm.drop([\"label\"],axis='columns')\n",
    "y=Norm.label\n",
    "x.head()"
   ]
  },
  {
   "cell_type": "markdown",
   "metadata": {},
   "source": [
    "#  here we Split Our dataset into training & testing"
   ]
  },
  {
   "cell_type": "code",
   "execution_count": 17,
   "metadata": {},
   "outputs": [],
   "source": [
    "from sklearn.model_selection import train_test_split\n",
    "X_train, X_test, y_train, y_test = train_test_split(x, y, test_size = 0.30, random_state = 0)\n"
   ]
  },
  {
   "cell_type": "markdown",
   "metadata": {},
   "source": [
    "#  here we Apply Artifical Neural Network"
   ]
  },
  {
   "cell_type": "code",
   "execution_count": 18,
   "metadata": {},
   "outputs": [],
   "source": [
    "import numpy as np\n",
    "from keras.models import Sequential\n",
    "from keras.layers import Dense,Activation,Dropout,BatchNormalization,Flatten\n",
    "from keras.layers.convolutional import Conv2D,MaxPooling2D\n",
    "from keras.utils import np_utils"
   ]
  },
  {
   "cell_type": "markdown",
   "metadata": {},
   "source": [
    "#  Here we create Neuron for our ANN¶"
   ]
  },
  {
   "cell_type": "code",
   "execution_count": 19,
   "metadata": {},
   "outputs": [
    {
     "name": "stderr",
     "output_type": "stream",
     "text": [
      "WARNING: Logging before flag parsing goes to stderr.\n",
      "W0307 15:32:31.032947  7912 module_wrapper.py:139] From C:\\Users\\hamza jamil\\Anaconda3\\lib\\site-packages\\keras\\backend\\tensorflow_backend.py:74: The name tf.get_default_graph is deprecated. Please use tf.compat.v1.get_default_graph instead.\n",
      "\n",
      "C:\\Users\\hamza jamil\\Anaconda3\\lib\\site-packages\\ipykernel_launcher.py:3: UserWarning: Update your `Dense` call to the Keras 2 API: `Dense(6, input_dim=6, activation=\"relu\", kernel_initializer=\"uniform\")`\n",
      "  This is separate from the ipykernel package so we can avoid doing imports until\n",
      "W0307 15:32:31.059875  7912 module_wrapper.py:139] From C:\\Users\\hamza jamil\\Anaconda3\\lib\\site-packages\\keras\\backend\\tensorflow_backend.py:517: The name tf.placeholder is deprecated. Please use tf.compat.v1.placeholder instead.\n",
      "\n",
      "W0307 15:32:31.067853  7912 module_wrapper.py:139] From C:\\Users\\hamza jamil\\Anaconda3\\lib\\site-packages\\keras\\backend\\tensorflow_backend.py:4138: The name tf.random_uniform is deprecated. Please use tf.random.uniform instead.\n",
      "\n"
     ]
    }
   ],
   "source": [
    "#here we create Neural Network Layer\n",
    "model = Sequential()\n",
    "model.add(Dense(6, input_dim=6, init='uniform', activation='relu'))\n",
    "model.add(Dense(30,  activation='relu'))\n",
    "model.add(Dense(1,  activation='sigmoid'))"
   ]
  },
  {
   "cell_type": "code",
   "execution_count": 20,
   "metadata": {},
   "outputs": [
    {
     "name": "stdout",
     "output_type": "stream",
     "text": [
      "_________________________________________________________________\n",
      "Layer (type)                 Output Shape              Param #   \n",
      "=================================================================\n",
      "dense_1 (Dense)              (None, 6)                 42        \n",
      "_________________________________________________________________\n",
      "dense_2 (Dense)              (None, 30)                210       \n",
      "_________________________________________________________________\n",
      "dense_3 (Dense)              (None, 1)                 31        \n",
      "=================================================================\n",
      "Total params: 283\n",
      "Trainable params: 283\n",
      "Non-trainable params: 0\n",
      "_________________________________________________________________\n"
     ]
    }
   ],
   "source": [
    "model.summary()  #this is our summary of neuron in ANN"
   ]
  },
  {
   "cell_type": "markdown",
   "metadata": {},
   "source": [
    "#  Here we compile our model with Binary Cross Entropy"
   ]
  },
  {
   "cell_type": "code",
   "execution_count": 22,
   "metadata": {},
   "outputs": [],
   "source": [
    "#here we compile our ANN\n",
    "model.compile(loss='binary_crossentropy', optimizer='adam', metrics=['accuracy'])\n"
   ]
  },
  {
   "cell_type": "markdown",
   "metadata": {},
   "source": [
    "#  Training Phase "
   ]
  },
  {
   "cell_type": "code",
   "execution_count": 52,
   "metadata": {},
   "outputs": [
    {
     "name": "stdout",
     "output_type": "stream",
     "text": [
      "Train on 212 samples, validate on 91 samples\n",
      "Epoch 1/30\n",
      "175/212 [=======================>......] - ETA: 0s - loss: 0.5251 - acc: 0.7257"
     ]
    },
    {
     "name": "stderr",
     "output_type": "stream",
     "text": [
      "C:\\Users\\hamza jamil\\Anaconda3\\lib\\site-packages\\ipykernel_launcher.py:1: UserWarning: The `nb_epoch` argument in `fit` has been renamed `epochs`.\n",
      "  \"\"\"Entry point for launching an IPython kernel.\n"
     ]
    },
    {
     "name": "stdout",
     "output_type": "stream",
     "text": [
      "212/212 [==============================] - 0s 1ms/step - loss: 0.5424 - acc: 0.7123 - val_loss: 0.5560 - val_acc: 0.7473\n",
      "Epoch 2/30\n",
      "212/212 [==============================] - 0s 406us/step - loss: 0.5407 - acc: 0.7075 - val_loss: 0.5666 - val_acc: 0.7363\n",
      "Epoch 3/30\n",
      "212/212 [==============================] - 0s 425us/step - loss: 0.5555 - acc: 0.7075 - val_loss: 0.5541 - val_acc: 0.7582\n",
      "Epoch 4/30\n",
      "212/212 [==============================] - 0s 551us/step - loss: 0.5550 - acc: 0.6981 - val_loss: 0.5557 - val_acc: 0.7473\n",
      "Epoch 5/30\n",
      "212/212 [==============================] - 0s 385us/step - loss: 0.5640 - acc: 0.7075 - val_loss: 0.5588 - val_acc: 0.7582\n",
      "Epoch 6/30\n",
      "212/212 [==============================] - 0s 400us/step - loss: 0.5446 - acc: 0.7075 - val_loss: 0.5584 - val_acc: 0.7473\n",
      "Epoch 7/30\n",
      "212/212 [==============================] - 0s 561us/step - loss: 0.5322 - acc: 0.7311 - val_loss: 0.5562 - val_acc: 0.7582\n",
      "Epoch 8/30\n",
      "212/212 [==============================] - 0s 674us/step - loss: 0.5438 - acc: 0.7123 - val_loss: 0.5614 - val_acc: 0.7582\n",
      "Epoch 9/30\n",
      "212/212 [==============================] - 0s 372us/step - loss: 0.5369 - acc: 0.7075 - val_loss: 0.5588 - val_acc: 0.7473\n",
      "Epoch 10/30\n",
      "212/212 [==============================] - 0s 390us/step - loss: 0.5307 - acc: 0.7264 - val_loss: 0.5618 - val_acc: 0.7473\n",
      "Epoch 11/30\n",
      "212/212 [==============================] - 0s 409us/step - loss: 0.5311 - acc: 0.7217 - val_loss: 0.5643 - val_acc: 0.7582\n",
      "Epoch 12/30\n",
      "212/212 [==============================] - 0s 429us/step - loss: 0.5281 - acc: 0.7358 - val_loss: 0.5716 - val_acc: 0.7143\n",
      "Epoch 13/30\n",
      "212/212 [==============================] - 0s 349us/step - loss: 0.5490 - acc: 0.7217 - val_loss: 0.5653 - val_acc: 0.7363\n",
      "Epoch 14/30\n",
      "212/212 [==============================] - 0s 529us/step - loss: 0.5273 - acc: 0.7170 - val_loss: 0.6059 - val_acc: 0.7363\n",
      "Epoch 15/30\n",
      "212/212 [==============================] - 0s 621us/step - loss: 0.5317 - acc: 0.7123 - val_loss: 0.5578 - val_acc: 0.7473\n",
      "Epoch 16/30\n",
      "212/212 [==============================] - 0s 405us/step - loss: 0.5319 - acc: 0.7123 - val_loss: 0.5523 - val_acc: 0.7473\n",
      "Epoch 17/30\n",
      "212/212 [==============================] - 0s 475us/step - loss: 0.5478 - acc: 0.7217 - val_loss: 0.5526 - val_acc: 0.7363\n",
      "Epoch 18/30\n",
      "212/212 [==============================] - 0s 546us/step - loss: 0.5380 - acc: 0.7028 - val_loss: 0.5642 - val_acc: 0.7582\n",
      "Epoch 19/30\n",
      "212/212 [==============================] - 0s 583us/step - loss: 0.5400 - acc: 0.7264 - val_loss: 0.5598 - val_acc: 0.7363\n",
      "Epoch 20/30\n",
      "212/212 [==============================] - 0s 428us/step - loss: 0.5412 - acc: 0.7075 - val_loss: 0.5521 - val_acc: 0.7363\n",
      "Epoch 21/30\n",
      "212/212 [==============================] - 0s 386us/step - loss: 0.5306 - acc: 0.7311 - val_loss: 0.5581 - val_acc: 0.7143\n",
      "Epoch 22/30\n",
      "212/212 [==============================] - 0s 480us/step - loss: 0.5393 - acc: 0.6981 - val_loss: 0.5575 - val_acc: 0.7143\n",
      "Epoch 23/30\n",
      "212/212 [==============================] - 0s 481us/step - loss: 0.5303 - acc: 0.7217 - val_loss: 0.6009 - val_acc: 0.7363\n",
      "Epoch 24/30\n",
      "212/212 [==============================] - 0s 387us/step - loss: 0.5160 - acc: 0.7453 - val_loss: 0.5674 - val_acc: 0.7363\n",
      "Epoch 25/30\n",
      "212/212 [==============================] - 0s 399us/step - loss: 0.5291 - acc: 0.7217 - val_loss: 0.5567 - val_acc: 0.7253\n",
      "Epoch 26/30\n",
      "212/212 [==============================] - 0s 414us/step - loss: 0.5429 - acc: 0.6887 - val_loss: 0.5572 - val_acc: 0.7363\n",
      "Epoch 27/30\n",
      "212/212 [==============================] - 0s 390us/step - loss: 0.5290 - acc: 0.7311 - val_loss: 0.5848 - val_acc: 0.6923\n",
      "Epoch 28/30\n",
      "212/212 [==============================] - 0s 407us/step - loss: 0.5364 - acc: 0.7075 - val_loss: 0.5537 - val_acc: 0.7692\n",
      "Epoch 29/30\n",
      "212/212 [==============================] - 0s 536us/step - loss: 0.5354 - acc: 0.7075 - val_loss: 0.5677 - val_acc: 0.7692\n",
      "Epoch 30/30\n",
      "212/212 [==============================] - 0s 442us/step - loss: 0.5298 - acc: 0.7311 - val_loss: 0.5588 - val_acc: 0.7363\n"
     ]
    },
    {
     "data": {
      "text/plain": [
       "<keras.callbacks.History at 0x27bbce8ef28>"
      ]
     },
     "execution_count": 52,
     "metadata": {},
     "output_type": "execute_result"
    }
   ],
   "source": [
    "de=model.fit(X_train, y_train, validation_data=(X_test, y_test), nb_epoch=30, batch_size=5)\n",
    "de"
   ]
  },
  {
   "cell_type": "markdown",
   "metadata": {},
   "source": [
    " # Model Accuracy "
   ]
  },
  {
   "cell_type": "code",
   "execution_count": 53,
   "metadata": {},
   "outputs": [
    {
     "name": "stdout",
     "output_type": "stream",
     "text": [
      "91/91 [==============================] - 0s 87us/step\n",
      "accuracy: 73.63%\n"
     ]
    }
   ],
   "source": [
    "scores = model.evaluate(X_test, y_test)\n",
    "\n",
    "print(\"accuracy: %.2f%%\" %(scores[1]*100))"
   ]
  },
  {
   "cell_type": "markdown",
   "metadata": {},
   "source": [
    "#  Testing Phase or Prediction phase"
   ]
  },
  {
   "cell_type": "code",
   "execution_count": 54,
   "metadata": {},
   "outputs": [
    {
     "data": {
      "text/plain": [
       "array([[0.3646938 ],\n",
       "       [0.29380322],\n",
       "       [0.546757  ],\n",
       "       [0.27011046],\n",
       "       [0.43717825],\n",
       "       [0.75647414],\n",
       "       [0.5377551 ],\n",
       "       [0.5339419 ],\n",
       "       [0.17927542],\n",
       "       [0.8291359 ],\n",
       "       [0.6496986 ],\n",
       "       [0.7514237 ],\n",
       "       [0.5301276 ],\n",
       "       [0.72052586],\n",
       "       [0.2545392 ],\n",
       "       [0.27621824],\n",
       "       [0.37773108],\n",
       "       [0.44797134],\n",
       "       [0.17161307],\n",
       "       [0.6817057 ],\n",
       "       [0.47743067],\n",
       "       [0.61173654],\n",
       "       [0.22412938],\n",
       "       [0.49512303],\n",
       "       [0.34631762],\n",
       "       [0.5276679 ],\n",
       "       [0.32342553],\n",
       "       [0.41345286],\n",
       "       [0.49109387],\n",
       "       [0.5176492 ],\n",
       "       [0.58519214],\n",
       "       [0.6486966 ],\n",
       "       [0.48172197],\n",
       "       [0.5934213 ],\n",
       "       [0.12012774],\n",
       "       [0.6065946 ],\n",
       "       [0.30639052],\n",
       "       [0.78440297],\n",
       "       [0.29508072],\n",
       "       [0.52610844],\n",
       "       [0.65200055],\n",
       "       [0.43537003],\n",
       "       [0.43228388],\n",
       "       [0.6449145 ],\n",
       "       [0.30330375],\n",
       "       [0.7651756 ],\n",
       "       [0.6355621 ],\n",
       "       [0.39050865],\n",
       "       [0.72511214],\n",
       "       [0.11706278],\n",
       "       [0.78560686],\n",
       "       [0.67635   ],\n",
       "       [0.34743103],\n",
       "       [0.30702984],\n",
       "       [0.3988865 ],\n",
       "       [0.18744376],\n",
       "       [0.13809419],\n",
       "       [0.87380743],\n",
       "       [0.27506623],\n",
       "       [0.82580066],\n",
       "       [0.19261816],\n",
       "       [0.6275699 ],\n",
       "       [0.3909563 ],\n",
       "       [0.5892458 ],\n",
       "       [0.0869163 ],\n",
       "       [0.5782411 ],\n",
       "       [0.16459933],\n",
       "       [0.09750107],\n",
       "       [0.5713246 ],\n",
       "       [0.4395976 ],\n",
       "       [0.34449333],\n",
       "       [0.51813257],\n",
       "       [0.123799  ],\n",
       "       [0.20442304],\n",
       "       [0.72753227],\n",
       "       [0.7708899 ],\n",
       "       [0.16133314],\n",
       "       [0.67934346],\n",
       "       [0.4789856 ],\n",
       "       [0.39107847],\n",
       "       [0.68569434],\n",
       "       [0.24379501],\n",
       "       [0.31585795],\n",
       "       [0.8307948 ],\n",
       "       [0.3783051 ],\n",
       "       [0.7846831 ],\n",
       "       [0.34309822],\n",
       "       [0.36421514],\n",
       "       [0.13798514],\n",
       "       [0.5680202 ],\n",
       "       [0.519328  ]], dtype=float32)"
      ]
     },
     "execution_count": 54,
     "metadata": {},
     "output_type": "execute_result"
    }
   ],
   "source": [
    "Y_pred=model.predict(X_test)\n",
    "Y_pred# ths is our testing Phase"
   ]
  },
  {
   "cell_type": "code",
   "execution_count": 55,
   "metadata": {},
   "outputs": [
    {
     "data": {
      "text/plain": [
       "array([[0],\n",
       "       [0],\n",
       "       [1],\n",
       "       [0],\n",
       "       [0],\n",
       "       [1],\n",
       "       [1],\n",
       "       [1],\n",
       "       [0],\n",
       "       [1],\n",
       "       [1],\n",
       "       [1],\n",
       "       [1],\n",
       "       [1],\n",
       "       [0],\n",
       "       [0],\n",
       "       [0],\n",
       "       [0],\n",
       "       [0],\n",
       "       [1],\n",
       "       [0],\n",
       "       [1],\n",
       "       [0],\n",
       "       [0],\n",
       "       [0],\n",
       "       [1],\n",
       "       [0],\n",
       "       [0],\n",
       "       [0],\n",
       "       [1],\n",
       "       [1],\n",
       "       [1],\n",
       "       [0],\n",
       "       [1],\n",
       "       [0],\n",
       "       [1],\n",
       "       [0],\n",
       "       [1],\n",
       "       [0],\n",
       "       [1],\n",
       "       [1],\n",
       "       [0],\n",
       "       [0],\n",
       "       [1],\n",
       "       [0],\n",
       "       [1],\n",
       "       [1],\n",
       "       [0],\n",
       "       [1],\n",
       "       [0],\n",
       "       [1],\n",
       "       [1],\n",
       "       [0],\n",
       "       [0],\n",
       "       [0],\n",
       "       [0],\n",
       "       [0],\n",
       "       [1],\n",
       "       [0],\n",
       "       [1],\n",
       "       [0],\n",
       "       [1],\n",
       "       [0],\n",
       "       [1],\n",
       "       [0],\n",
       "       [1],\n",
       "       [0],\n",
       "       [0],\n",
       "       [1],\n",
       "       [0],\n",
       "       [0],\n",
       "       [1],\n",
       "       [0],\n",
       "       [0],\n",
       "       [1],\n",
       "       [1],\n",
       "       [0],\n",
       "       [1],\n",
       "       [0],\n",
       "       [0],\n",
       "       [1],\n",
       "       [0],\n",
       "       [0],\n",
       "       [1],\n",
       "       [0],\n",
       "       [1],\n",
       "       [0],\n",
       "       [0],\n",
       "       [0],\n",
       "       [1],\n",
       "       [1]])"
      ]
     },
     "execution_count": 55,
     "metadata": {},
     "output_type": "execute_result"
    }
   ],
   "source": [
    "pred_cl=model.predict_classes(X_test) # ths is our testing Phase\n",
    "pred_cl"
   ]
  },
  {
   "cell_type": "markdown",
   "metadata": {},
   "source": [
    "#  Classfication report of our Model with precision, recall, accuracy"
   ]
  },
  {
   "cell_type": "code",
   "execution_count": 56,
   "metadata": {},
   "outputs": [
    {
     "name": "stdout",
     "output_type": "stream",
     "text": [
      "               precision    recall  f1-score   support\n",
      "\n",
      "    Patient 1       0.80      0.74      0.77        54\n",
      "Not Patient 0       0.66      0.73      0.69        37\n",
      "\n",
      "     accuracy                           0.74        91\n",
      "    macro avg       0.73      0.74      0.73        91\n",
      " weighted avg       0.74      0.74      0.74        91\n",
      "\n"
     ]
    }
   ],
   "source": [
    "from sklearn.metrics import classification_report,confusion_matrix\n",
    "targe = ['Patient 1', 'Not Patient 0']\n",
    "print(classification_report(y_test,pred_cl,target_names=targe))"
   ]
  },
  {
   "cell_type": "markdown",
   "metadata": {},
   "source": [
    "#  Instance Evaluation to the help of Confusion Metrix\n"
   ]
  },
  {
   "cell_type": "code",
   "execution_count": 57,
   "metadata": {},
   "outputs": [
    {
     "name": "stdout",
     "output_type": "stream",
     "text": [
      "confusion metrix without normalize\n",
      "[[40 14]\n",
      " [10 27]]\n"
     ]
    },
    {
     "data": {
      "image/png": "[encoded data removed]",
      "text/plain": [
       "<Figure size 432x288 with 2 Axes>"
      ]
     },
     "metadata": {
      "needs_background": "light"
     },
     "output_type": "display_data"
    }
   ],
   "source": [
    "from sklearn.metrics import confusion_matrix\n",
    "import itertools\n",
    "cm=confusion_matrix(y_test,pred_cl)\n",
    "\n",
    "def go(cm,classes,title='CONFUSOIN METRIX',normalize=False,cmap=plt.cm.Blues):\n",
    "    plt.imshow(cm,interpolation='nearest',cmap=cmap)\n",
    "    plt.title(title)\n",
    "    plt.colorbar()\n",
    "    tick_mark=np.arange(len(classes))\n",
    "    plt.xticks(tick_mark,classes,rotation=45)\n",
    "    plt.yticks(tick_mark,classes)\n",
    "    if normalize:\n",
    "        cm=cm.astype('float') / cm.sum(axis=1)[:,np.newaxis]\n",
    "        print(\"Normalize cnfusion metrix\")\n",
    "    else:\n",
    "        \n",
    "        print(\"confusion metrix without normalize\")\n",
    "    print(cm)    \n",
    "    thresh=cm.max() / 1\n",
    "    for i,j in itertools.product(range(cm.shape[0]),range(cm.shape[1])):\n",
    "        plt.text(j,i,cm[i,j],horizontalalignment='center',color='white' if cm[i,j] > thresh else 'black')\n",
    "    plt.tight_layout()\n",
    "    plt.ylabel('Trure Lable')\n",
    "    plt.xlabel('Predict lable')\n",
    "        \n",
    "    \n",
    "cm_lable=['no_side_effect','head_side_effect']    \n",
    "go(cm,cm_lable,title='confusoin metrix')\n",
    "    \n",
    "   \n",
    "    \n"
   ]
  },
  {
   "cell_type": "markdown",
   "metadata": {},
   "source": [
    "#  ANN Model Loss visualization"
   ]
  },
  {
   "cell_type": "code",
   "execution_count": 58,
   "metadata": {},
   "outputs": [
    {
     "name": "stdout",
     "output_type": "stream",
     "text": [
      "['bmh', 'classic', 'dark_background', 'fast', 'fivethirtyeight', 'ggplot', 'grayscale', 'seaborn-bright', 'seaborn-colorblind', 'seaborn-dark-palette', 'seaborn-dark', 'seaborn-darkgrid', 'seaborn-deep', 'seaborn-muted', 'seaborn-notebook', 'seaborn-paper', 'seaborn-pastel', 'seaborn-poster', 'seaborn-talk', 'seaborn-ticks', 'seaborn-white', 'seaborn-whitegrid', 'seaborn', 'Solarize_Light2', 'tableau-colorblind10', '_classic_test']\n"
     ]
    },
    {
     "data": {
      "image/png": "[encoded data removed]",
      "text/plain": [
       "<Figure size 504x360 with 1 Axes>"
      ]
     },
     "metadata": {
      "needs_background": "light"
     },
     "output_type": "display_data"
    }
   ],
   "source": [
    "nb_epoch=30\n",
    "train_loss=de.history['loss']\n",
    "val_loss=de.history['val_loss']\n",
    "train_acc=de.history['acc']\n",
    "val_acc=de.history['val_acc']\n",
    "xc=range(nb_epoch)\n",
    "plt.figure(1,figsize=(7,5))\n",
    "plt.plot(xc,train_loss)\n",
    "plt.plot(xc,val_loss)\n",
    "plt.xlabel('num of Epochs')\n",
    "plt.ylabel('loss')\n",
    "plt.title('train_loss vs val_loss')\n",
    "plt.grid(True)\n",
    "plt.legend(['train','val'])\n",
    "print(plt.style.available) # use bmh, classic,ggplot for big pictures\n",
    "plt.style.use(['classic'])\n"
   ]
  },
  {
   "cell_type": "markdown",
   "metadata": {},
   "source": [
    "#  ANN Model Accuracy visualization"
   ]
  },
  {
   "cell_type": "code",
   "execution_count": 59,
   "metadata": {},
   "outputs": [
    {
     "data": {
      "image/png": "[encoded data removed]",
      "text/plain": [
       "<Figure size 560x400 with 1 Axes>"
      ]
     },
     "metadata": {},
     "output_type": "display_data"
    }
   ],
   "source": [
    "plt.figure(2,figsize=(7,5))\n",
    "plt.plot(xc,train_acc)\n",
    "plt.plot(xc,val_acc)\n",
    "plt.xlabel('num of Epochs')\n",
    "plt.ylabel('accuracy')\n",
    "plt.title('train_acc vs val_acc')\n",
    "plt.grid(True)\n",
    "plt.legend(['train','val'],loc=4)\n",
    "#print plt.style.available # use bmh, classic,ggplot for big pictures\n",
    "plt.style.use(['classic'])"
   ]
  },
  {
   "cell_type": "code",
   "execution_count": null,
   "metadata": {},
   "outputs": [],
   "source": []
  },
  {
   "cell_type": "markdown",
   "metadata": {},
   "source": [
    "#  Now we apply DLMNN [Deep learning Modifed Neural Network]\n",
    "1\n",
    "​"
   ]
  },
  {
   "cell_type": "code",
   "execution_count": 23,
   "metadata": {},
   "outputs": [],
   "source": [
    "import numpy as np\n",
    "import tensorflow as tf\n",
    "from keras.models import Sequential\n",
    "from keras.layers import Dense,Activation,Dropout,BatchNormalization,Flatten\n",
    "from keras.layers.convolutional import Conv2D,MaxPooling2D\n",
    "from keras.utils import np_utils"
   ]
  },
  {
   "cell_type": "markdown",
   "metadata": {},
   "source": [
    "#  Here we create Deep Neuron for DLMNN"
   ]
  },
  {
   "cell_type": "code",
   "execution_count": 25,
   "metadata": {},
   "outputs": [
    {
     "name": "stderr",
     "output_type": "stream",
     "text": [
      "C:\\Users\\hamza jamil\\Anaconda3\\lib\\site-packages\\ipykernel_launcher.py:2: UserWarning: Update your `Dense` call to the Keras 2 API: `Dense(6, input_dim=6, activation=\"relu\", kernel_initializer=\"uniform\")`\n",
      "  \n"
     ]
    }
   ],
   "source": [
    "mode = Sequential()\n",
    "mode.add(Dense(6, input_dim=6, init='uniform', activation='relu'))\n",
    "mode.add(Dense(30,  activation='relu'))\n",
    "mode.add(Dense(40,  activation='relu'))\n",
    "mode.add(Dense(50,  activation='relu'))\n",
    "mode.add(Dense(60,  activation='relu'))\n",
    "mode.add(Dense(70,  activation='relu'))\n",
    "mode.add(Dense(80,  activation='relu'))\n",
    "mode.add(Dense(1,  activation='sigmoid'))"
   ]
  },
  {
   "cell_type": "code",
   "execution_count": 26,
   "metadata": {},
   "outputs": [
    {
     "name": "stdout",
     "output_type": "stream",
     "text": [
      "_________________________________________________________________\n",
      "Layer (type)                 Output Shape              Param #   \n",
      "=================================================================\n",
      "dense_12 (Dense)             (None, 6)                 42        \n",
      "_________________________________________________________________\n",
      "dense_13 (Dense)             (None, 30)                210       \n",
      "_________________________________________________________________\n",
      "dense_14 (Dense)             (None, 40)                1240      \n",
      "_________________________________________________________________\n",
      "dense_15 (Dense)             (None, 50)                2050      \n",
      "_________________________________________________________________\n",
      "dense_16 (Dense)             (None, 60)                3060      \n",
      "_________________________________________________________________\n",
      "dense_17 (Dense)             (None, 70)                4270      \n",
      "_________________________________________________________________\n",
      "dense_18 (Dense)             (None, 80)                5680      \n",
      "_________________________________________________________________\n",
      "dense_19 (Dense)             (None, 1)                 81        \n",
      "=================================================================\n",
      "Total params: 16,633\n",
      "Trainable params: 16,633\n",
      "Non-trainable params: 0\n",
      "_________________________________________________________________\n"
     ]
    }
   ],
   "source": [
    "mode.summary()"
   ]
  },
  {
   "cell_type": "markdown",
   "metadata": {},
   "source": [
    "#  # DLMNN Complile with binary  Entropy"
   ]
  },
  {
   "cell_type": "code",
   "execution_count": 27,
   "metadata": {},
   "outputs": [],
   "source": [
    "mode.compile(loss='binary_crossentropy', optimizer='adam', metrics=['accuracy'])"
   ]
  },
  {
   "cell_type": "markdown",
   "metadata": {},
   "source": [
    "#  Model Training Phase"
   ]
  },
  {
   "cell_type": "code",
   "execution_count": 30,
   "metadata": {},
   "outputs": [
    {
     "name": "stdout",
     "output_type": "stream",
     "text": [
      "Train on 212 samples, validate on 91 samples\n",
      "Epoch 1/42\n",
      "212/212 [==============================] - 0s 623us/step - loss: 0.6171 - acc: 0.6651 - val_loss: 0.6438 - val_acc: 0.6374\n",
      "Epoch 2/42\n",
      "119/212 [===============>..............] - ETA: 0s - loss: 0.5710 - acc: 0.7143"
     ]
    },
    {
     "name": "stderr",
     "output_type": "stream",
     "text": [
      "C:\\Users\\hamza jamil\\Anaconda3\\lib\\site-packages\\ipykernel_launcher.py:1: UserWarning: The `nb_epoch` argument in `fit` has been renamed `epochs`.\n",
      "  \"\"\"Entry point for launching an IPython kernel.\n"
     ]
    },
    {
     "name": "stdout",
     "output_type": "stream",
     "text": [
      "212/212 [==============================] - 0s 517us/step - loss: 0.6080 - acc: 0.6745 - val_loss: 0.6448 - val_acc: 0.6044\n",
      "Epoch 3/42\n",
      "212/212 [==============================] - 0s 475us/step - loss: 0.6216 - acc: 0.6274 - val_loss: 0.6436 - val_acc: 0.6264\n",
      "Epoch 4/42\n",
      "212/212 [==============================] - 0s 510us/step - loss: 0.6465 - acc: 0.6085 - val_loss: 0.7108 - val_acc: 0.6374\n",
      "Epoch 5/42\n",
      "212/212 [==============================] - 0s 494us/step - loss: 0.6442 - acc: 0.7028 - val_loss: 0.6464 - val_acc: 0.6593\n",
      "Epoch 6/42\n",
      "212/212 [==============================] - 0s 456us/step - loss: 0.6338 - acc: 0.6462 - val_loss: 0.6515 - val_acc: 0.6264\n",
      "Epoch 7/42\n",
      "212/212 [==============================] - 0s 520us/step - loss: 0.6237 - acc: 0.6651 - val_loss: 0.6500 - val_acc: 0.6044\n",
      "Epoch 8/42\n",
      "212/212 [==============================] - 0s 481us/step - loss: 0.6338 - acc: 0.6698 - val_loss: 0.6359 - val_acc: 0.6923\n",
      "Epoch 9/42\n",
      "212/212 [==============================] - 0s 504us/step - loss: 0.6340 - acc: 0.6509 - val_loss: 0.6424 - val_acc: 0.6264\n",
      "Epoch 10/42\n",
      "212/212 [==============================] - 0s 480us/step - loss: 0.6077 - acc: 0.7075 - val_loss: 0.6380 - val_acc: 0.6593\n",
      "Epoch 11/42\n",
      "212/212 [==============================] - 0s 485us/step - loss: 0.6308 - acc: 0.6368 - val_loss: 0.6570 - val_acc: 0.5934\n",
      "Epoch 12/42\n",
      "212/212 [==============================] - 0s 481us/step - loss: 0.6193 - acc: 0.6887 - val_loss: 0.6706 - val_acc: 0.6374\n",
      "Epoch 13/42\n",
      "212/212 [==============================] - 0s 507us/step - loss: 0.6227 - acc: 0.6745 - val_loss: 0.6344 - val_acc: 0.6703\n",
      "Epoch 14/42\n",
      "212/212 [==============================] - 0s 565us/step - loss: 0.6107 - acc: 0.6840 - val_loss: 0.6775 - val_acc: 0.5714\n",
      "Epoch 15/42\n",
      "212/212 [==============================] - 0s 480us/step - loss: 0.6291 - acc: 0.6321 - val_loss: 0.6289 - val_acc: 0.6703\n",
      "Epoch 16/42\n",
      "212/212 [==============================] - 0s 554us/step - loss: 0.6079 - acc: 0.6887 - val_loss: 0.6321 - val_acc: 0.6923\n",
      "Epoch 17/42\n",
      "212/212 [==============================] - 0s 498us/step - loss: 0.6676 - acc: 0.6415 - val_loss: 0.6330 - val_acc: 0.6813\n",
      "Epoch 18/42\n",
      "212/212 [==============================] - 0s 491us/step - loss: 0.6361 - acc: 0.6792 - val_loss: 0.6298 - val_acc: 0.6813\n",
      "Epoch 19/42\n",
      "212/212 [==============================] - 0s 485us/step - loss: 0.6162 - acc: 0.6745 - val_loss: 0.6287 - val_acc: 0.6703\n",
      "Epoch 20/42\n",
      "212/212 [==============================] - 0s 494us/step - loss: 0.6368 - acc: 0.6226 - val_loss: 0.6454 - val_acc: 0.6813\n",
      "Epoch 21/42\n",
      "212/212 [==============================] - 0s 522us/step - loss: 0.6263 - acc: 0.6604 - val_loss: 0.6469 - val_acc: 0.6923\n",
      "Epoch 22/42\n",
      "212/212 [==============================] - 0s 466us/step - loss: 0.6100 - acc: 0.6981 - val_loss: 0.6451 - val_acc: 0.6154\n",
      "Epoch 23/42\n",
      "212/212 [==============================] - 0s 490us/step - loss: 0.5991 - acc: 0.6887 - val_loss: 0.6421 - val_acc: 0.6703\n",
      "Epoch 24/42\n",
      "212/212 [==============================] - 0s 456us/step - loss: 0.6133 - acc: 0.6462 - val_loss: 0.6434 - val_acc: 0.6813\n",
      "Epoch 25/42\n",
      "212/212 [==============================] - 0s 468us/step - loss: 0.6065 - acc: 0.6604 - val_loss: 0.6407 - val_acc: 0.6484\n",
      "Epoch 26/42\n",
      "212/212 [==============================] - 0s 706us/step - loss: 0.6230 - acc: 0.6557 - val_loss: 0.6386 - val_acc: 0.6593\n",
      "Epoch 27/42\n",
      "212/212 [==============================] - 0s 461us/step - loss: 0.6516 - acc: 0.5991 - val_loss: 0.6388 - val_acc: 0.6813\n",
      "Epoch 28/42\n",
      "212/212 [==============================] - 0s 475us/step - loss: 0.6074 - acc: 0.6981 - val_loss: 0.6501 - val_acc: 0.6044\n",
      "Epoch 29/42\n",
      "212/212 [==============================] - 0s 511us/step - loss: 0.6282 - acc: 0.6509 - val_loss: 0.6493 - val_acc: 0.6044\n",
      "Epoch 30/42\n",
      "212/212 [==============================] - 0s 470us/step - loss: 0.6209 - acc: 0.6887 - val_loss: 0.6610 - val_acc: 0.5824\n",
      "Epoch 31/42\n",
      "212/212 [==============================] - 0s 461us/step - loss: 0.6147 - acc: 0.6604 - val_loss: 0.6575 - val_acc: 0.6593\n",
      "Epoch 32/42\n",
      "212/212 [==============================] - 0s 450us/step - loss: 0.6189 - acc: 0.6509 - val_loss: 0.6398 - val_acc: 0.6813\n",
      "Epoch 33/42\n",
      "212/212 [==============================] - 0s 470us/step - loss: 0.6329 - acc: 0.6698 - val_loss: 0.6514 - val_acc: 0.5934\n",
      "Epoch 34/42\n",
      "212/212 [==============================] - 0s 585us/step - loss: 0.6089 - acc: 0.6840 - val_loss: 0.6828 - val_acc: 0.5385\n",
      "Epoch 35/42\n",
      "212/212 [==============================] - 0s 497us/step - loss: 0.6145 - acc: 0.6415 - val_loss: 0.6833 - val_acc: 0.5165\n",
      "Epoch 36/42\n",
      "212/212 [==============================] - 0s 469us/step - loss: 0.6250 - acc: 0.6745 - val_loss: 0.6437 - val_acc: 0.6264\n",
      "Epoch 37/42\n",
      "212/212 [==============================] - 0s 494us/step - loss: 0.6538 - acc: 0.5519 - val_loss: 0.6433 - val_acc: 0.6154\n",
      "Epoch 38/42\n",
      "212/212 [==============================] - 0s 499us/step - loss: 0.6001 - acc: 0.6887 - val_loss: 0.6417 - val_acc: 0.6484\n",
      "Epoch 39/42\n",
      "212/212 [==============================] - 0s 475us/step - loss: 0.5938 - acc: 0.6981 - val_loss: 0.6364 - val_acc: 0.6044\n",
      "Epoch 40/42\n",
      "212/212 [==============================] - 0s 517us/step - loss: 0.6031 - acc: 0.6462 - val_loss: 0.6763 - val_acc: 0.4835\n",
      "Epoch 41/42\n",
      "212/212 [==============================] - 0s 485us/step - loss: 0.6423 - acc: 0.6415 - val_loss: 0.6401 - val_acc: 0.6374\n",
      "Epoch 42/42\n",
      "212/212 [==============================] - 0s 494us/step - loss: 0.5956 - acc: 0.6934 - val_loss: 0.6474 - val_acc: 0.7033\n"
     ]
    },
    {
     "data": {
      "text/plain": [
       "<keras.callbacks.History at 0x1876a120828>"
      ]
     },
     "execution_count": 30,
     "metadata": {},
     "output_type": "execute_result"
    }
   ],
   "source": [
    "g=mode.fit(X_train, y_train, validation_data=(X_test, y_test), nb_epoch=42, batch_size=7)\n",
    "g"
   ]
  },
  {
   "cell_type": "markdown",
   "metadata": {},
   "source": [
    "# Model Accuracy"
   ]
  },
  {
   "cell_type": "code",
   "execution_count": 32,
   "metadata": {},
   "outputs": [
    {
     "name": "stdout",
     "output_type": "stream",
     "text": [
      "91/91 [==============================] - 0s 77us/step\n",
      "accuracy: 70.33%\n"
     ]
    }
   ],
   "source": [
    "scor = mode.evaluate(X_test, y_test)\n",
    "\n",
    "print(\"accuracy: %.2f%%\" %(scor[1]*100))"
   ]
  },
  {
   "cell_type": "markdown",
   "metadata": {},
   "source": [
    "#  Model Testing Phase or Prediction phase"
   ]
  },
  {
   "cell_type": "code",
   "execution_count": 33,
   "metadata": {},
   "outputs": [
    {
     "data": {
      "text/plain": [
       "array([[0.17975205],\n",
       "       [0.19079843],\n",
       "       [0.23261201],\n",
       "       [0.17963442],\n",
       "       [0.2832912 ],\n",
       "       [0.31364095],\n",
       "       [0.22170913],\n",
       "       [0.24784902],\n",
       "       [0.17113903],\n",
       "       [0.5443861 ],\n",
       "       [0.37074757],\n",
       "       [0.5443861 ],\n",
       "       [0.22663468],\n",
       "       [0.5443861 ],\n",
       "       [0.24459872],\n",
       "       [0.22575578],\n",
       "       [0.32502717],\n",
       "       [0.27889556],\n",
       "       [0.13782585],\n",
       "       [0.5443861 ],\n",
       "       [0.49709672],\n",
       "       [0.27756828],\n",
       "       [0.1455164 ],\n",
       "       [0.16943711],\n",
       "       [0.21512586],\n",
       "       [0.24991786],\n",
       "       [0.1693961 ],\n",
       "       [0.15663803],\n",
       "       [0.29681993],\n",
       "       [0.3465362 ],\n",
       "       [0.27789468],\n",
       "       [0.23657614],\n",
       "       [0.26096314],\n",
       "       [0.5443861 ],\n",
       "       [0.13087645],\n",
       "       [0.25750232],\n",
       "       [0.13873938],\n",
       "       [0.5443861 ],\n",
       "       [0.18050429],\n",
       "       [0.24078259],\n",
       "       [0.5443861 ],\n",
       "       [0.32310593],\n",
       "       [0.26808718],\n",
       "       [0.23780987],\n",
       "       [0.25329337],\n",
       "       [0.5443861 ],\n",
       "       [0.3619383 ],\n",
       "       [0.213584  ],\n",
       "       [0.29032618],\n",
       "       [0.25395322],\n",
       "       [0.5443861 ],\n",
       "       [0.30965382],\n",
       "       [0.19215477],\n",
       "       [0.29996318],\n",
       "       [0.24676523],\n",
       "       [0.12101284],\n",
       "       [0.1706939 ],\n",
       "       [0.29567516],\n",
       "       [0.25046822],\n",
       "       [0.5443861 ],\n",
       "       [0.19047067],\n",
       "       [0.54430693],\n",
       "       [0.22216585],\n",
       "       [0.5443861 ],\n",
       "       [0.09120241],\n",
       "       [0.18557638],\n",
       "       [0.11093208],\n",
       "       [0.11789292],\n",
       "       [0.27918884],\n",
       "       [0.27772996],\n",
       "       [0.31553847],\n",
       "       [0.3592676 ],\n",
       "       [0.14836639],\n",
       "       [0.18713725],\n",
       "       [0.47134683],\n",
       "       [0.5443861 ],\n",
       "       [0.13237473],\n",
       "       [0.2223064 ],\n",
       "       [0.34586337],\n",
       "       [0.22892901],\n",
       "       [0.39275652],\n",
       "       [0.16005814],\n",
       "       [0.20590165],\n",
       "       [0.5443861 ],\n",
       "       [0.18166575],\n",
       "       [0.3321299 ],\n",
       "       [0.1400496 ],\n",
       "       [0.12026539],\n",
       "       [0.1658008 ],\n",
       "       [0.17528336],\n",
       "       [0.1851983 ]], dtype=float32)"
      ]
     },
     "execution_count": 33,
     "metadata": {},
     "output_type": "execute_result"
    }
   ],
   "source": [
    "p_pred=mode.predict(X_test)\n",
    "p_pred"
   ]
  },
  {
   "cell_type": "code",
   "execution_count": 35,
   "metadata": {},
   "outputs": [],
   "source": [
    "pre_cl=mode.predict_classes(X_test) # ths is our testing Phase\n"
   ]
  },
  {
   "cell_type": "markdown",
   "metadata": {},
   "source": [
    "#  Classfication report of our Model with precision, recall, accuracy\n"
   ]
  },
  {
   "cell_type": "code",
   "execution_count": 99,
   "metadata": {},
   "outputs": [
    {
     "name": "stdout",
     "output_type": "stream",
     "text": [
      "               precision    recall  f1-score   support\n",
      "\n",
      "    Patient 1       0.72      0.81      0.77        54\n",
      "Not Patient 0       0.67      0.54      0.60        37\n",
      "\n",
      "     accuracy                           0.70        91\n",
      "    macro avg       0.69      0.68      0.68        91\n",
      " weighted avg       0.70      0.70      0.70        91\n",
      "\n"
     ]
    }
   ],
   "source": [
    "from sklearn.metrics import classification_report,confusion_matrix\n",
    "targe = ['Patient 1', 'Not Patient 0']\n",
    "print(classification_report(y_test,pre_cl,target_names=targe))"
   ]
  },
  {
   "cell_type": "markdown",
   "metadata": {},
   "source": [
    "#  Instance Evaluation to the help of Confusion Metrix"
   ]
  },
  {
   "cell_type": "code",
   "execution_count": 100,
   "metadata": {},
   "outputs": [
    {
     "name": "stdout",
     "output_type": "stream",
     "text": [
      "confusion metrix without normalize\n",
      "[[44 10]\n",
      " [17 20]]\n"
     ]
    },
    {
     "data": {
      "image/png": "[encoded data removed]",
      "text/plain": [
       "<Figure size 640x480 with 2 Axes>"
      ]
     },
     "metadata": {},
     "output_type": "display_data"
    }
   ],
   "source": [
    "from sklearn.metrics import confusion_matrix\n",
    "import itertools\n",
    "cm=confusion_matrix(y_test,pre_cl)\n",
    "\n",
    "def go(cm,classes,title='CONFUSOIN METRIX',normalize=False,cmap=plt.cm.Blues):\n",
    "    plt.imshow(cm,interpolation='nearest',cmap=cmap)\n",
    "    plt.title(title)\n",
    "    plt.colorbar()\n",
    "    tick_mark=np.arange(len(classes))\n",
    "    plt.xticks(tick_mark,classes,rotation=45)\n",
    "    plt.yticks(tick_mark,classes)\n",
    "    if normalize:\n",
    "        cm=cm.astype('float') / cm.sum(axis=1)[:,np.newaxis]\n",
    "        print(\"Normalize cnfusion metrix\")\n",
    "    else:\n",
    "        \n",
    "        print(\"confusion metrix without normalize\")\n",
    "    print(cm)    \n",
    "    thresh=cm.max() / 1\n",
    "    for i,j in itertools.product(range(cm.shape[0]),range(cm.shape[1])):\n",
    "        plt.text(j,i,cm[i,j],horizontalalignment='center',color='white' if cm[i,j] > thresh else 'black')\n",
    "    plt.tight_layout()\n",
    "    plt.ylabel('Trure Lable')\n",
    "    plt.xlabel('Predict lable')\n",
    "        \n",
    "    \n",
    "cm_lable=['no_side_effect','head_side_effect']    \n",
    "go(cm,cm_lable,title='confusoin metrix')\n",
    "    "
   ]
  },
  {
   "cell_type": "markdown",
   "metadata": {},
   "source": [
    "#  DLMNN Model Loss visualization"
   ]
  },
  {
   "cell_type": "code",
   "execution_count": 102,
   "metadata": {},
   "outputs": [
    {
     "name": "stdout",
     "output_type": "stream",
     "text": [
      "['bmh', 'classic', 'dark_background', 'fast', 'fivethirtyeight', 'ggplot', 'grayscale', 'seaborn-bright', 'seaborn-colorblind', 'seaborn-dark-palette', 'seaborn-dark', 'seaborn-darkgrid', 'seaborn-deep', 'seaborn-muted', 'seaborn-notebook', 'seaborn-paper', 'seaborn-pastel', 'seaborn-poster', 'seaborn-talk', 'seaborn-ticks', 'seaborn-white', 'seaborn-whitegrid', 'seaborn', 'Solarize_Light2', 'tableau-colorblind10', '_classic_test']\n"
     ]
    },
    {
     "data": {
      "image/png": "[encoded data removed]",
      "text/plain": [
       "<Figure size 560x400 with 1 Axes>"
      ]
     },
     "metadata": {},
     "output_type": "display_data"
    }
   ],
   "source": [
    "nb_epoch=42\n",
    "train_los=g.history['loss']\n",
    "val_los=g.history['val_loss']\n",
    "train_ac=g.history['acc']\n",
    "val_ac=g.history['val_acc']\n",
    "xd=range(nb_epoch)\n",
    "plt.figure(1,figsize=(7,5))\n",
    "plt.plot(xd,train_los)\n",
    "plt.plot(xd,val_los)\n",
    "plt.xlabel('num of Epochs')\n",
    "plt.ylabel('loss')\n",
    "plt.title('train_loss vs val_loss')\n",
    "plt.grid(True)\n",
    "plt.legend(['train','val'])\n",
    "print(plt.style.available) \n",
    "plt.style.use(['classic'])"
   ]
  },
  {
   "cell_type": "markdown",
   "metadata": {},
   "source": [
    "#  DLMNN Model Accuracy visualization"
   ]
  },
  {
   "cell_type": "code",
   "execution_count": 103,
   "metadata": {},
   "outputs": [
    {
     "data": {
      "image/png": "[encoded data removed]",
      "text/plain": [
       "<Figure size 560x400 with 1 Axes>"
      ]
     },
     "metadata": {},
     "output_type": "display_data"
    }
   ],
   "source": [
    "plt.figure(2,figsize=(7,5))\n",
    "plt.plot(xd,train_ac)\n",
    "plt.plot(xd,val_ac)\n",
    "plt.xlabel('num of Epochs')\n",
    "plt.ylabel('accuracy')\n",
    "plt.title('train_acc vs val_acc')\n",
    "plt.grid(True)\n",
    "plt.legend(['train','val'],loc=4)\n",
    "\n",
    "plt.style.use(['classic'])"
   ]
  },
  {
   "cell_type": "code",
   "execution_count": null,
   "metadata": {},
   "outputs": [],
   "source": []
  },
  {
   "cell_type": "code",
   "execution_count": null,
   "metadata": {},
   "outputs": [],
   "source": []
  },
  {
   "cell_type": "code",
   "execution_count": null,
   "metadata": {},
   "outputs": [],
   "source": []
  }
 ],
 "metadata": {
  "kernelspec": {
   "display_name": "Python 3",
   "language": "python",
   "name": "python3"
  },
  "language_info": {
   "codemirror_mode": {
    "name": "ipython",
    "version": 3
   },
   "file_extension": ".py",
   "mimetype": "text/x-python",
   "name": "python",
   "nbconvert_exporter": "python",
   "pygments_lexer": "ipython3",
   "version": "3.7.0"
  }
 },
 "nbformat": 4,
 "nbformat_minor": 2
}
